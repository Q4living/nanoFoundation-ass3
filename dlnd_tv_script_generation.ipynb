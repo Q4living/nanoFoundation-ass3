{
 "cells": [
  {
   "cell_type": "markdown",
   "metadata": {
    "deletable": true,
    "editable": true
   },
   "source": [
    "# TV Script Generation\n",
    "In this project, you'll generate your own [Simpsons](https://en.wikipedia.org/wiki/The_Simpsons) TV scripts using RNNs.  You'll be using part of the [Simpsons dataset](https://www.kaggle.com/wcukierski/the-simpsons-by-the-data) of scripts from 27 seasons.  The Neural Network you'll build will generate a new TV script for a scene at [Moe's Tavern](https://simpsonswiki.com/wiki/Moe's_Tavern).\n",
    "## Get the Data\n",
    "The data is already provided for you.  You'll be using a subset of the original dataset.  It consists of only the scenes in Moe's Tavern.  This doesn't include other versions of the tavern, like \"Moe's Cavern\", \"Flaming Moe's\", \"Uncle Moe's Family Feed-Bag\", etc.."
   ]
  },
  {
   "cell_type": "code",
   "execution_count": 1,
   "metadata": {
    "collapsed": true,
    "deletable": true,
    "editable": true
   },
   "outputs": [],
   "source": [
    "\"\"\"\n",
    "DON'T MODIFY ANYTHING IN THIS CELL\n",
    "\"\"\"\n",
    "import helper\n",
    "\n",
    "data_dir = './data/simpsons/moes_tavern_lines.txt'\n",
    "text = helper.load_data(data_dir)\n",
    "# Ignore notice, since we don't use it for analysing the data\n",
    "text = text[81:]"
   ]
  },
  {
   "cell_type": "markdown",
   "metadata": {
    "deletable": true,
    "editable": true
   },
   "source": [
    "## Explore the Data\n",
    "Play around with `view_sentence_range` to view different parts of the data."
   ]
  },
  {
   "cell_type": "code",
   "execution_count": 2,
   "metadata": {
    "collapsed": false,
    "deletable": true,
    "editable": true
   },
   "outputs": [
    {
     "name": "stdout",
     "output_type": "stream",
     "text": [
      "Dataset Stats\n",
      "Roughly the number of unique words: 11492\n",
      "Number of scenes: 262\n",
      "Average number of sentences in each scene: 15.248091603053435\n",
      "Number of lines: 4257\n",
      "Average number of words in each line: 11.50434578341555\n",
      "\n",
      "The sentences 0 to 10:\n",
      "Moe_Szyslak: (INTO PHONE) Moe's Tavern. Where the elite meet to drink.\n",
      "Bart_Simpson: Eh, yeah, hello, is Mike there? Last name, Rotch.\n",
      "Moe_Szyslak: (INTO PHONE) Hold on, I'll check. (TO BARFLIES) Mike Rotch. Mike Rotch. Hey, has anybody seen Mike Rotch, lately?\n",
      "Moe_Szyslak: (INTO PHONE) Listen you little puke. One of these days I'm gonna catch you, and I'm gonna carve my name on your back with an ice pick.\n",
      "Moe_Szyslak: What's the matter Homer? You're not your normal effervescent self.\n",
      "Homer_Simpson: I got my problems, Moe. Give me another one.\n",
      "Moe_Szyslak: Homer, hey, you should not drink to forget your problems.\n",
      "Barney_Gumble: Yeah, you should only drink to enhance your social skills.\n",
      "\n",
      "\n"
     ]
    }
   ],
   "source": [
    "view_sentence_range = (0, 10)\n",
    "\n",
    "\"\"\"\n",
    "DON'T MODIFY ANYTHING IN THIS CELL\n",
    "\"\"\"\n",
    "import numpy as np\n",
    "\n",
    "print('Dataset Stats')\n",
    "print('Roughly the number of unique words: {}'.format(len({word: None for word in text.split()})))\n",
    "scenes = text.split('\\n\\n')\n",
    "print('Number of scenes: {}'.format(len(scenes)))\n",
    "sentence_count_scene = [scene.count('\\n') for scene in scenes]\n",
    "print('Average number of sentences in each scene: {}'.format(np.average(sentence_count_scene)))\n",
    "\n",
    "sentences = [sentence for scene in scenes for sentence in scene.split('\\n')]\n",
    "print('Number of lines: {}'.format(len(sentences)))\n",
    "word_count_sentence = [len(sentence.split()) for sentence in sentences]\n",
    "print('Average number of words in each line: {}'.format(np.average(word_count_sentence)))\n",
    "\n",
    "print()\n",
    "print('The sentences {} to {}:'.format(*view_sentence_range))\n",
    "print('\\n'.join(text.split('\\n')[view_sentence_range[0]:view_sentence_range[1]]))"
   ]
  },
  {
   "cell_type": "markdown",
   "metadata": {
    "deletable": true,
    "editable": true
   },
   "source": [
    "## Implement Preprocessing Functions\n",
    "The first thing to do to any dataset is preprocessing.  Implement the following preprocessing functions below:\n",
    "- Lookup Table\n",
    "- Tokenize Punctuation\n",
    "\n",
    "### Lookup Table\n",
    "To create a word embedding, you first need to transform the words to ids.  In this function, create two dictionaries:\n",
    "- Dictionary to go from the words to an id, we'll call `vocab_to_int`\n",
    "- Dictionary to go from the id to word, we'll call `int_to_vocab`\n",
    "\n",
    "Return these dictionaries in the following tuple `(vocab_to_int, int_to_vocab)`"
   ]
  },
  {
   "cell_type": "code",
   "execution_count": 3,
   "metadata": {
    "collapsed": false,
    "deletable": true,
    "editable": true
   },
   "outputs": [
    {
     "name": "stdout",
     "output_type": "stream",
     "text": [
      "Tests Passed\n"
     ]
    }
   ],
   "source": [
    "import numpy as np\n",
    "import problem_unittests as tests\n",
    "\n",
    "def create_lookup_tables(text):\n",
    "    \"\"\"\n",
    "    Create lookup tables for vocabulary\n",
    "    :param text: The text of tv scripts split into words\n",
    "    :return: A tuple of dicts (vocab_to_int, int_to_vocab)\n",
    "    \"\"\"\n",
    "    # TODO: Implement Function\n",
    "    \n",
    "    vocabs = list(set(text))\n",
    "    # After initial coding and found that the vocab has duplicated words ....\n",
    "    vocab_to_int = {vocabs[n]:n for n in range(0,len(vocabs))}\n",
    "    int_to_vocab = {value: key for key, value in vocab_to_int.items()}\n",
    "    \n",
    "    return vocab_to_int, int_to_vocab\n",
    "\n",
    "\"\"\"\n",
    "DON'T MODIFY ANYTHING IN THIS CELL THAT IS BELOW THIS LINE\n",
    "\"\"\"\n",
    "tests.test_create_lookup_tables(create_lookup_tables)"
   ]
  },
  {
   "cell_type": "markdown",
   "metadata": {
    "deletable": true,
    "editable": true
   },
   "source": [
    "### Tokenize Punctuation\n",
    "We'll be splitting the script into a word array using spaces as delimiters.  However, punctuations like periods and exclamation marks make it hard for the neural network to distinguish between the word \"bye\" and \"bye!\".\n",
    "\n",
    "Implement the function `token_lookup` to return a dict that will be used to tokenize symbols like \"!\" into \"||Exclamation_Mark||\".  Create a dictionary for the following symbols where the symbol is the key and value is the token:\n",
    "- Period ( . )\n",
    "- Comma ( , )\n",
    "- Quotation Mark ( \" )\n",
    "- Semicolon ( ; )\n",
    "- Exclamation mark ( ! )\n",
    "- Question mark ( ? )\n",
    "- Left Parentheses ( ( )\n",
    "- Right Parentheses ( ) )\n",
    "- Dash ( -- )\n",
    "- Return ( \\n )\n",
    "\n",
    "This dictionary will be used to token the symbols and add the delimiter (space) around it.  This separates the symbols as it's own word, making it easier for the neural network to predict on the next word. Make sure you don't use a token that could be confused as a word. Instead of using the token \"dash\", try using something like \"||dash||\"."
   ]
  },
  {
   "cell_type": "code",
   "execution_count": 4,
   "metadata": {
    "collapsed": false,
    "deletable": true,
    "editable": true
   },
   "outputs": [
    {
     "name": "stdout",
     "output_type": "stream",
     "text": [
      "Tests Passed\n"
     ]
    }
   ],
   "source": [
    "def token_lookup():\n",
    "    \"\"\"\n",
    "    Generate a dict to turn punctuation into a token.\n",
    "    :return: Tokenize dictionary where the key is the punctuation and the value is the token\n",
    "    \"\"\"\n",
    "    # TODO: Implement Function\n",
    "    \n",
    "    token_dict = {'.':'||Period||',\n",
    "                  ',':'||Comma||',\n",
    "                  '\"':'||Quotation_Mark||',\n",
    "                  ';':'||Semicolon||',\n",
    "                  '!':'||Exclamation_Mark||',\n",
    "                  '?':'||Question_Mark||',\n",
    "                  '(':'||Left_Parentheses',\n",
    "                  ')':'||Right_Parentheses',\n",
    "                  '--':'||Dash||',\n",
    "                  '\\n':'||Return||'\n",
    "                 }\n",
    "    \n",
    "    \n",
    "    return token_dict\n",
    "\n",
    "\"\"\"\n",
    "DON'T MODIFY ANYTHING IN THIS CELL THAT IS BELOW THIS LINE\n",
    "\"\"\"\n",
    "tests.test_tokenize(token_lookup)"
   ]
  },
  {
   "cell_type": "markdown",
   "metadata": {
    "deletable": true,
    "editable": true
   },
   "source": [
    "## Preprocess all the data and save it\n",
    "Running the code cell below will preprocess all the data and save it to file."
   ]
  },
  {
   "cell_type": "code",
   "execution_count": 5,
   "metadata": {
    "collapsed": false,
    "deletable": true,
    "editable": true
   },
   "outputs": [],
   "source": [
    "\"\"\"\n",
    "DON'T MODIFY ANYTHING IN THIS CELL\n",
    "\"\"\"\n",
    "# Preprocess Training, Validation, and Testing Data\n",
    "helper.preprocess_and_save_data(data_dir, token_lookup, create_lookup_tables)"
   ]
  },
  {
   "cell_type": "markdown",
   "metadata": {
    "deletable": true,
    "editable": true
   },
   "source": [
    "# Check Point\n",
    "This is your first checkpoint. If you ever decide to come back to this notebook or have to restart the notebook, you can start from here. The preprocessed data has been saved to disk."
   ]
  },
  {
   "cell_type": "code",
   "execution_count": 6,
   "metadata": {
    "collapsed": true,
    "deletable": true,
    "editable": true
   },
   "outputs": [],
   "source": [
    "\"\"\"\n",
    "DON'T MODIFY ANYTHING IN THIS CELL\n",
    "\"\"\"\n",
    "import helper\n",
    "import numpy as np\n",
    "import problem_unittests as tests\n",
    "\n",
    "int_text, vocab_to_int, int_to_vocab, token_dict = helper.load_preprocess()"
   ]
  },
  {
   "cell_type": "markdown",
   "metadata": {
    "deletable": true,
    "editable": true
   },
   "source": [
    "## Build the Neural Network\n",
    "You'll build the components necessary to build a RNN by implementing the following functions below:\n",
    "- get_inputs\n",
    "- get_init_cell\n",
    "- get_embed\n",
    "- build_rnn\n",
    "- build_nn\n",
    "- get_batches\n",
    "\n",
    "### Check the Version of TensorFlow and Access to GPU"
   ]
  },
  {
   "cell_type": "code",
   "execution_count": 7,
   "metadata": {
    "collapsed": false,
    "deletable": true,
    "editable": true
   },
   "outputs": [
    {
     "name": "stdout",
     "output_type": "stream",
     "text": [
      "TensorFlow Version: 1.0.0\n",
      "Default GPU Device: /gpu:0\n"
     ]
    }
   ],
   "source": [
    "\"\"\"\n",
    "DON'T MODIFY ANYTHING IN THIS CELL\n",
    "\"\"\"\n",
    "from distutils.version import LooseVersion\n",
    "import warnings\n",
    "import tensorflow as tf\n",
    "\n",
    "# Check TensorFlow Version\n",
    "assert LooseVersion(tf.__version__) >= LooseVersion('1.0'), 'Please use TensorFlow version 1.0 or newer'\n",
    "print('TensorFlow Version: {}'.format(tf.__version__))\n",
    "\n",
    "# Check for a GPU\n",
    "if not tf.test.gpu_device_name():\n",
    "    warnings.warn('No GPU found. Please use a GPU to train your neural network.')\n",
    "else:\n",
    "    print('Default GPU Device: {}'.format(tf.test.gpu_device_name()))"
   ]
  },
  {
   "cell_type": "markdown",
   "metadata": {
    "deletable": true,
    "editable": true
   },
   "source": [
    "### Input\n",
    "Implement the `get_inputs()` function to create TF Placeholders for the Neural Network.  It should create the following placeholders:\n",
    "- Input text placeholder named \"input\" using the [TF Placeholder](https://www.tensorflow.org/api_docs/python/tf/placeholder) `name` parameter.\n",
    "- Targets placeholder\n",
    "- Learning Rate placeholder\n",
    "\n",
    "Return the placeholders in the following tuple `(Input, Targets, LearningRate)`"
   ]
  },
  {
   "cell_type": "code",
   "execution_count": 8,
   "metadata": {
    "collapsed": false,
    "deletable": true,
    "editable": true
   },
   "outputs": [
    {
     "name": "stdout",
     "output_type": "stream",
     "text": [
      "Tests Passed\n"
     ]
    }
   ],
   "source": [
    "def get_inputs():\n",
    "    \"\"\"\n",
    "    Create TF Placeholders for input, targets, and learning rate.\n",
    "    :return: Tuple (input, targets, learning rate)\n",
    "    \"\"\"\n",
    "    # TODO: Implement Function\n",
    "    inputs = tf.placeholder(dtype = tf.int32,shape=[None,None],name='input')\n",
    "    targets = tf.placeholder(dtype = tf.int32,shape=[None,None],name='target')\n",
    "    learning_rate = tf.placeholder(dtype = tf.float32,shape=None,name='learning_rate')\n",
    "    \n",
    "    return inputs, targets, learning_rate\n",
    "\n",
    "\n",
    "\"\"\"\n",
    "DON'T MODIFY ANYTHING IN THIS CELL THAT IS BELOW THIS LINE\n",
    "\"\"\"\n",
    "tests.test_get_inputs(get_inputs)"
   ]
  },
  {
   "cell_type": "markdown",
   "metadata": {
    "deletable": true,
    "editable": true
   },
   "source": [
    "### Build RNN Cell and Initialize\n",
    "Stack one or more [`BasicLSTMCells`](https://www.tensorflow.org/api_docs/python/tf/contrib/rnn/BasicLSTMCell) in a [`MultiRNNCell`](https://www.tensorflow.org/api_docs/python/tf/contrib/rnn/MultiRNNCell).\n",
    "- The Rnn size should be set using `rnn_size`\n",
    "- Initalize Cell State using the MultiRNNCell's [`zero_state()`](https://www.tensorflow.org/api_docs/python/tf/contrib/rnn/MultiRNNCell#zero_state) function\n",
    "    - Apply the name \"initial_state\" to the initial state using [`tf.identity()`](https://www.tensorflow.org/api_docs/python/tf/identity)\n",
    "\n",
    "Return the cell and initial state in the following tuple `(Cell, InitialState)`"
   ]
  },
  {
   "cell_type": "code",
   "execution_count": 75,
   "metadata": {
    "collapsed": false,
    "deletable": true,
    "editable": true
   },
   "outputs": [
    {
     "name": "stdout",
     "output_type": "stream",
     "text": [
      "Tests Passed\n"
     ]
    }
   ],
   "source": [
    "def get_init_cell(batch_size, rnn_size):\n",
    "    \"\"\"\n",
    "    Create an RNN Cell and initialize it.\n",
    "    :param batch_size: Size of batches\n",
    "    :param rnn_size: Size of RNNs\n",
    "    :return: Tuple (cell, initialize state)\n",
    "    \"\"\"\n",
    "    # TODO: Implement Function\n",
    "    # Add some hack to improve the learning rate\n",
    "    lstm = tf.contrib.rnn.BasicLSTMCell(rnn_size)\n",
    "    \n",
    "    #dropout = tf.contrib.rnn.DropoutWrapper(lstm, .5)\n",
    "    \n",
    "    #cell = tf.contrib.rnn.MultiRNNCell([dropout] * 3)\n",
    "    \n",
    "    #cell = tf.contrib.rnn.MultiRNNCell([lstm]* rnn_size)\n",
    "    cell = tf.contrib.rnn.MultiRNNCell([lstm])\n",
    "    \n",
    "    initial_state = tf.identity(cell.zero_state(batch_size,dtype = tf.float32),name=\"initial_state\")\n",
    "    \n",
    "    return cell, initial_state\n",
    "\n",
    "\n",
    "\"\"\"\n",
    "DON'T MODIFY ANYTHING IN THIS CELL THAT IS BELOW THIS LINE\n",
    "\"\"\"\n",
    "tests.test_get_init_cell(get_init_cell)"
   ]
  },
  {
   "cell_type": "markdown",
   "metadata": {
    "deletable": true,
    "editable": true
   },
   "source": [
    "### Word Embedding\n",
    "Apply embedding to `input_data` using TensorFlow.  Return the embedded sequence."
   ]
  },
  {
   "cell_type": "code",
   "execution_count": 76,
   "metadata": {
    "collapsed": false,
    "deletable": true,
    "editable": true
   },
   "outputs": [
    {
     "name": "stdout",
     "output_type": "stream",
     "text": [
      "Tests Passed\n"
     ]
    }
   ],
   "source": [
    "def get_embed(input_data, vocab_size, embed_dim):\n",
    "    \"\"\"\n",
    "    Create embedding for <input_data>.\n",
    "    :param input_data: TF placeholder for text input.\n",
    "    :param vocab_size: Number of words in vocabulary.\n",
    "    :param embed_dim: Number of embedding dimensions\n",
    "    :return: Embedded input.\n",
    "    \"\"\"\n",
    "    # TODO: Implement Function\n",
    "    rnn_inputs = tf.contrib.layers.embed_sequence(input_data,vocab_size,embed_dim)\n",
    "    #Original Spec\n",
    "    #embeddings = tf.Variable(tf.random_uniform([vocab_size, embed_dim],1,-1)) \n",
    "    #embed_input = tf.nn.embedding_lookup(embeddings, rnn_inputs)\n",
    "    \n",
    "    return rnn_inputs\n",
    "\n",
    "\n",
    "\"\"\"\n",
    "DON'T MODIFY ANYTHING IN THIS CELL THAT IS BELOW THIS LINE\n",
    "\"\"\"\n",
    "tests.test_get_embed(get_embed)"
   ]
  },
  {
   "cell_type": "markdown",
   "metadata": {
    "deletable": true,
    "editable": true
   },
   "source": [
    "### Build RNN\n",
    "You created a RNN Cell in the `get_init_cell()` function.  Time to use the cell to create a RNN.\n",
    "- Build the RNN using the [`tf.nn.dynamic_rnn()`](https://www.tensorflow.org/api_docs/python/tf/nn/dynamic_rnn)\n",
    " - Apply the name \"final_state\" to the final state using [`tf.identity()`](https://www.tensorflow.org/api_docs/python/tf/identity)\n",
    "\n",
    "Return the outputs and final_state state in the following tuple `(Outputs, FinalState)` "
   ]
  },
  {
   "cell_type": "code",
   "execution_count": 77,
   "metadata": {
    "collapsed": false,
    "deletable": true,
    "editable": true
   },
   "outputs": [
    {
     "name": "stdout",
     "output_type": "stream",
     "text": [
      "Tests Passed\n"
     ]
    }
   ],
   "source": [
    "def build_rnn(cell, inputs):\n",
    "    \"\"\"\n",
    "    Create a RNN using a RNN Cell\n",
    "    :param cell: RNN Cell\n",
    "    :param inputs: Input text data\n",
    "    :return: Tuple (Outputs, Final State)\n",
    "    \"\"\"\n",
    "    # TODO: Implement Function\n",
    "    \n",
    "    outputs, finalState = tf.nn.dynamic_rnn(cell,inputs,dtype=tf.float32)\n",
    "    finalState = tf.identity(finalState, name = \"final_state\")\n",
    "    \n",
    "    return outputs, finalState\n",
    "\n",
    "\n",
    "\"\"\"\n",
    "DON'T MODIFY ANYTHING IN THIS CELL THAT IS BELOW THIS LINE\n",
    "\"\"\"\n",
    "tests.test_build_rnn(build_rnn)"
   ]
  },
  {
   "cell_type": "markdown",
   "metadata": {
    "deletable": true,
    "editable": true
   },
   "source": [
    "### Build the Neural Network\n",
    "Apply the functions you implemented above to:\n",
    "- Apply embedding to `input_data` using your `get_embed(input_data, vocab_size, embed_dim)` function.\n",
    "- Build RNN using `cell` and your `build_rnn(cell, inputs)` function.\n",
    "- Apply a fully connected layer with a linear activation and `vocab_size` as the number of outputs.\n",
    "\n",
    "Return the logits and final state in the following tuple (Logits, FinalState) "
   ]
  },
  {
   "cell_type": "code",
   "execution_count": 78,
   "metadata": {
    "collapsed": false,
    "deletable": true,
    "editable": true
   },
   "outputs": [
    {
     "name": "stdout",
     "output_type": "stream",
     "text": [
      "Tests Passed\n"
     ]
    }
   ],
   "source": [
    "def build_nn(cell, rnn_size, input_data, vocab_size, embed_dim):\n",
    "    \"\"\"\n",
    "    Build part of the neural network\n",
    "    :param cell: RNN cell\n",
    "    :param rnn_size: Size of rnns\n",
    "    :param input_data: Input data\n",
    "    :param vocab_size: Vocabulary size\n",
    "    :param embed_dim: Number of embedding dimensions\n",
    "    :return: Tuple (Logits, FinalState)\n",
    "    \"\"\"\n",
    "    # TODO: Implement Function\n",
    "    embed_input = get_embed(input_data, vocab_size, embed_dim)\n",
    "    outputs, finalState = build_rnn(cell, embed_input)\n",
    "    logits = tf.contrib.layers.fully_connected(outputs, vocab_size, None)\n",
    "    \n",
    "    return logits, finalState\n",
    "\n",
    "\n",
    "\"\"\"\n",
    "DON'T MODIFY ANYTHING IN THIS CELL THAT IS BELOW THIS LINE\n",
    "\"\"\"\n",
    "tests.test_build_nn(build_nn)"
   ]
  },
  {
   "cell_type": "markdown",
   "metadata": {
    "deletable": true,
    "editable": true
   },
   "source": [
    "### Batches\n",
    "Implement `get_batches` to create batches of input and targets using `int_text`.  The batches should be a Numpy array with the shape `(number of batches, 2, batch size, sequence length)`. Each batch contains two elements:\n",
    "- The first element is a single batch of **input** with the shape `[batch size, sequence length]`\n",
    "- The second element is a single batch of **targets** with the shape `[batch size, sequence length]`\n",
    "\n",
    "If you can't fill the last batch with enough data, drop the last batch.\n",
    "\n",
    "For exmple, `get_batches([1, 2, 3, 4, 5, 6, 7, 8, 9, 10, 11, 12, 13, 14, 15], 2, 3)` would return a Numpy array of the following:\n",
    "```\n",
    "[\n",
    "  # First Batch\n",
    "  [\n",
    "    # Batch of Input\n",
    "    [[ 1  2  3], [ 7  8  9]],\n",
    "    # Batch of targets\n",
    "    [[ 2  3  4], [ 8  9 10]]\n",
    "  ],\n",
    " \n",
    "  # Second Batch\n",
    "  [\n",
    "    # Batch of Input\n",
    "    [[ 4  5  6], [10 11 12]],\n",
    "    # Batch of targets\n",
    "    [[ 5  6  7], [11 12 13]]\n",
    "  ]\n",
    "]\n",
    "```"
   ]
  },
  {
   "cell_type": "code",
   "execution_count": 79,
   "metadata": {
    "collapsed": false,
    "deletable": true,
    "editable": true
   },
   "outputs": [
    {
     "name": "stdout",
     "output_type": "stream",
     "text": [
      "Tests Passed\n"
     ]
    }
   ],
   "source": [
    "def get_batches(int_text, batch_size, seq_length):\n",
    "    \"\"\"\n",
    "    Return batches of input and target\n",
    "    :param int_text: Text with the words replaced by their ids\n",
    "    :param batch_size: The size of batch\n",
    "    :param seq_length: The length of sequence\n",
    "    :return: Batches as a Numpy array\n",
    "    \"\"\"\n",
    "    # TODO: Implement Function\n",
    "    length = batch_size*seq_length\n",
    "    selection = len(int_text)//length\n",
    "\n",
    "    inputs = np.split(np.array(int_text[:selection * length]), selection)\n",
    "    targets = np.split(np.array(int_text[1:(selection * length + 1)]), selection)\n",
    "\n",
    "    batches = np.array([np.stack((np.split(inputs[s], batch_size), np.split(targets[s], batch_size))) for s in range(selection)]) \n",
    "\n",
    "    return batches\n",
    "\n",
    "\n",
    "\"\"\"\n",
    "DON'T MODIFY ANYTHING IN THIS CELL THAT IS BELOW THIS LINE\n",
    "\"\"\"\n",
    "tests.test_get_batches(get_batches)"
   ]
  },
  {
   "cell_type": "markdown",
   "metadata": {
    "deletable": true,
    "editable": true
   },
   "source": [
    "## Neural Network Training\n",
    "### Hyperparameters\n",
    "Tune the following parameters:\n",
    "\n",
    "- Set `num_epochs` to the number of epochs.\n",
    "- Set `batch_size` to the batch size.\n",
    "- Set `rnn_size` to the size of the RNNs.\n",
    "- Set `embed_dim` to the size of the embedding.\n",
    "- Set `seq_length` to the length of sequence.\n",
    "- Set `learning_rate` to the learning rate.\n",
    "- Set `show_every_n_batches` to the number of batches the neural network should print progress."
   ]
  },
  {
   "cell_type": "code",
   "execution_count": 95,
   "metadata": {
    "collapsed": true,
    "deletable": true,
    "editable": true
   },
   "outputs": [],
   "source": [
    "# Number of Epochs\n",
    "num_epochs = 500\n",
    "# Batch Size\n",
    "batch_size = 128\n",
    "# RNN Size\n",
    "rnn_size = 256\n",
    "# Embedding Dimension Size\n",
    "embed_dim = 256\n",
    "# Sequence Length\n",
    "seq_length = 10\n",
    "# Learning Rate\n",
    "learning_rate = 0.01\n",
    "# Show stats for every n number of batches\n",
    "show_every_n_batches = 50\n",
    "\n",
    "\"\"\"\n",
    "DON'T MODIFY ANYTHING IN THIS CELL THAT IS BELOW THIS LINE\n",
    "\"\"\"\n",
    "save_dir = './save'"
   ]
  },
  {
   "cell_type": "markdown",
   "metadata": {
    "deletable": true,
    "editable": true
   },
   "source": [
    "### Build the Graph\n",
    "Build the graph using the neural network you implemented."
   ]
  },
  {
   "cell_type": "code",
   "execution_count": 96,
   "metadata": {
    "collapsed": false,
    "deletable": true,
    "editable": true
   },
   "outputs": [],
   "source": [
    "\"\"\"\n",
    "DON'T MODIFY ANYTHING IN THIS CELL\n",
    "\"\"\"\n",
    "from tensorflow.contrib import seq2seq\n",
    "\n",
    "train_graph = tf.Graph()\n",
    "with train_graph.as_default():\n",
    "    vocab_size = len(int_to_vocab)\n",
    "    input_text, targets, lr = get_inputs()\n",
    "    input_data_shape = tf.shape(input_text)\n",
    "    cell, initial_state = get_init_cell(input_data_shape[0], rnn_size)\n",
    "    logits, final_state = build_nn(cell, rnn_size, input_text, vocab_size, embed_dim)\n",
    "\n",
    "    # Probabilities for generating words\n",
    "    probs = tf.nn.softmax(logits, name='probs')\n",
    "\n",
    "    # Loss function\n",
    "    cost = seq2seq.sequence_loss(\n",
    "        logits,\n",
    "        targets,\n",
    "        tf.ones([input_data_shape[0], input_data_shape[1]]))\n",
    "\n",
    "    # Optimizer\n",
    "    optimizer = tf.train.AdamOptimizer(lr)\n",
    "\n",
    "    # Gradient Clipping\n",
    "    gradients = optimizer.compute_gradients(cost)\n",
    "    capped_gradients = [(tf.clip_by_value(grad, -1., 1.), var) for grad, var in gradients]\n",
    "    train_op = optimizer.apply_gradients(capped_gradients)"
   ]
  },
  {
   "cell_type": "markdown",
   "metadata": {
    "deletable": true,
    "editable": true
   },
   "source": [
    "## Train\n",
    "Train the neural network on the preprocessed data.  If you have a hard time getting a good loss, check the [forms](https://discussions.udacity.com/) to see if anyone is having the same problem."
   ]
  },
  {
   "cell_type": "code",
   "execution_count": 97,
   "metadata": {
    "collapsed": false,
    "deletable": true,
    "editable": true
   },
   "outputs": [
    {
     "name": "stdout",
     "output_type": "stream",
     "text": [
      "Epoch   0 Batch    0/53   train_loss = 8.822\n",
      "Epoch   0 Batch   50/53   train_loss = 5.889\n",
      "Epoch   1 Batch   47/53   train_loss = 4.935\n",
      "Epoch   2 Batch   44/53   train_loss = 4.930\n",
      "Epoch   3 Batch   41/53   train_loss = 4.627\n",
      "Epoch   4 Batch   38/53   train_loss = 4.399\n",
      "Epoch   5 Batch   35/53   train_loss = 4.123\n",
      "Epoch   6 Batch   32/53   train_loss = 3.826\n",
      "Epoch   7 Batch   29/53   train_loss = 3.675\n",
      "Epoch   8 Batch   26/53   train_loss = 3.433\n",
      "Epoch   9 Batch   23/53   train_loss = 3.273\n",
      "Epoch  10 Batch   20/53   train_loss = 2.923\n",
      "Epoch  11 Batch   17/53   train_loss = 2.886\n",
      "Epoch  12 Batch   14/53   train_loss = 2.743\n",
      "Epoch  13 Batch   11/53   train_loss = 2.686\n",
      "Epoch  14 Batch    8/53   train_loss = 2.586\n",
      "Epoch  15 Batch    5/53   train_loss = 2.457\n",
      "Epoch  16 Batch    2/53   train_loss = 2.243\n",
      "Epoch  16 Batch   52/53   train_loss = 2.168\n",
      "Epoch  17 Batch   49/53   train_loss = 2.003\n",
      "Epoch  18 Batch   46/53   train_loss = 2.001\n",
      "Epoch  19 Batch   43/53   train_loss = 1.851\n",
      "Epoch  20 Batch   40/53   train_loss = 1.853\n",
      "Epoch  21 Batch   37/53   train_loss = 1.725\n",
      "Epoch  22 Batch   34/53   train_loss = 1.665\n",
      "Epoch  23 Batch   31/53   train_loss = 1.573\n",
      "Epoch  24 Batch   28/53   train_loss = 1.581\n",
      "Epoch  25 Batch   25/53   train_loss = 1.442\n",
      "Epoch  26 Batch   22/53   train_loss = 1.504\n",
      "Epoch  27 Batch   19/53   train_loss = 1.481\n",
      "Epoch  28 Batch   16/53   train_loss = 1.308\n",
      "Epoch  29 Batch   13/53   train_loss = 1.281\n",
      "Epoch  30 Batch   10/53   train_loss = 1.310\n",
      "Epoch  31 Batch    7/53   train_loss = 1.295\n",
      "Epoch  32 Batch    4/53   train_loss = 1.264\n",
      "Epoch  33 Batch    1/53   train_loss = 1.172\n",
      "Epoch  33 Batch   51/53   train_loss = 1.123\n",
      "Epoch  34 Batch   48/53   train_loss = 1.045\n",
      "Epoch  35 Batch   45/53   train_loss = 0.943\n",
      "Epoch  36 Batch   42/53   train_loss = 0.912\n",
      "Epoch  37 Batch   39/53   train_loss = 0.916\n",
      "Epoch  38 Batch   36/53   train_loss = 1.002\n",
      "Epoch  39 Batch   33/53   train_loss = 0.944\n",
      "Epoch  40 Batch   30/53   train_loss = 0.951\n",
      "Epoch  41 Batch   27/53   train_loss = 0.861\n",
      "Epoch  42 Batch   24/53   train_loss = 0.965\n",
      "Epoch  43 Batch   21/53   train_loss = 0.969\n",
      "Epoch  44 Batch   18/53   train_loss = 0.979\n",
      "Epoch  45 Batch   15/53   train_loss = 0.874\n",
      "Epoch  46 Batch   12/53   train_loss = 0.879\n",
      "Epoch  47 Batch    9/53   train_loss = 0.843\n",
      "Epoch  48 Batch    6/53   train_loss = 0.858\n",
      "Epoch  49 Batch    3/53   train_loss = 0.781\n",
      "Epoch  50 Batch    0/53   train_loss = 0.838\n",
      "Epoch  50 Batch   50/53   train_loss = 0.690\n",
      "Epoch  51 Batch   47/53   train_loss = 0.773\n",
      "Epoch  52 Batch   44/53   train_loss = 0.715\n",
      "Epoch  53 Batch   41/53   train_loss = 0.720\n",
      "Epoch  54 Batch   38/53   train_loss = 0.696\n",
      "Epoch  55 Batch   35/53   train_loss = 0.749\n",
      "Epoch  56 Batch   32/53   train_loss = 0.757\n",
      "Epoch  57 Batch   29/53   train_loss = 0.706\n",
      "Epoch  58 Batch   26/53   train_loss = 0.680\n",
      "Epoch  59 Batch   23/53   train_loss = 0.732\n",
      "Epoch  60 Batch   20/53   train_loss = 0.758\n",
      "Epoch  61 Batch   17/53   train_loss = 0.668\n",
      "Epoch  62 Batch   14/53   train_loss = 0.715\n",
      "Epoch  63 Batch   11/53   train_loss = 0.621\n",
      "Epoch  64 Batch    8/53   train_loss = 0.674\n",
      "Epoch  65 Batch    5/53   train_loss = 0.640\n",
      "Epoch  66 Batch    2/53   train_loss = 0.646\n",
      "Epoch  66 Batch   52/53   train_loss = 0.735\n",
      "Epoch  67 Batch   49/53   train_loss = 0.606\n",
      "Epoch  68 Batch   46/53   train_loss = 0.600\n",
      "Epoch  69 Batch   43/53   train_loss = 0.585\n",
      "Epoch  70 Batch   40/53   train_loss = 0.620\n",
      "Epoch  71 Batch   37/53   train_loss = 0.579\n",
      "Epoch  72 Batch   34/53   train_loss = 0.566\n",
      "Epoch  73 Batch   31/53   train_loss = 0.561\n",
      "Epoch  74 Batch   28/53   train_loss = 0.578\n",
      "Epoch  75 Batch   25/53   train_loss = 0.539\n",
      "Epoch  76 Batch   22/53   train_loss = 0.576\n",
      "Epoch  77 Batch   19/53   train_loss = 0.560\n",
      "Epoch  78 Batch   16/53   train_loss = 0.529\n",
      "Epoch  79 Batch   13/53   train_loss = 0.537\n",
      "Epoch  80 Batch   10/53   train_loss = 0.552\n",
      "Epoch  81 Batch    7/53   train_loss = 0.576\n",
      "Epoch  82 Batch    4/53   train_loss = 0.636\n",
      "Epoch  83 Batch    1/53   train_loss = 0.658\n",
      "Epoch  83 Batch   51/53   train_loss = 0.746\n",
      "Epoch  84 Batch   48/53   train_loss = 0.922\n",
      "Epoch  85 Batch   45/53   train_loss = 1.023\n",
      "Epoch  86 Batch   42/53   train_loss = 1.113\n",
      "Epoch  87 Batch   39/53   train_loss = 1.155\n",
      "Epoch  88 Batch   36/53   train_loss = 1.166\n",
      "Epoch  89 Batch   33/53   train_loss = 0.990\n",
      "Epoch  90 Batch   30/53   train_loss = 0.915\n",
      "Epoch  91 Batch   27/53   train_loss = 0.743\n",
      "Epoch  92 Batch   24/53   train_loss = 0.728\n",
      "Epoch  93 Batch   21/53   train_loss = 0.686\n",
      "Epoch  94 Batch   18/53   train_loss = 0.652\n",
      "Epoch  95 Batch   15/53   train_loss = 0.547\n",
      "Epoch  96 Batch   12/53   train_loss = 0.530\n",
      "Epoch  97 Batch    9/53   train_loss = 0.495\n",
      "Epoch  98 Batch    6/53   train_loss = 0.485\n",
      "Epoch  99 Batch    3/53   train_loss = 0.491\n",
      "Epoch 100 Batch    0/53   train_loss = 0.477\n",
      "Epoch 100 Batch   50/53   train_loss = 0.434\n",
      "Epoch 101 Batch   47/53   train_loss = 0.427\n",
      "Epoch 102 Batch   44/53   train_loss = 0.414\n",
      "Epoch 103 Batch   41/53   train_loss = 0.416\n",
      "Epoch 104 Batch   38/53   train_loss = 0.377\n",
      "Epoch 105 Batch   35/53   train_loss = 0.418\n",
      "Epoch 106 Batch   32/53   train_loss = 0.454\n",
      "Epoch 107 Batch   29/53   train_loss = 0.415\n",
      "Epoch 108 Batch   26/53   train_loss = 0.380\n",
      "Epoch 109 Batch   23/53   train_loss = 0.405\n",
      "Epoch 110 Batch   20/53   train_loss = 0.411\n",
      "Epoch 111 Batch   17/53   train_loss = 0.389\n",
      "Epoch 112 Batch   14/53   train_loss = 0.420\n",
      "Epoch 113 Batch   11/53   train_loss = 0.374\n",
      "Epoch 114 Batch    8/53   train_loss = 0.383\n",
      "Epoch 115 Batch    5/53   train_loss = 0.400\n",
      "Epoch 116 Batch    2/53   train_loss = 0.387\n",
      "Epoch 116 Batch   52/53   train_loss = 0.464\n",
      "Epoch 117 Batch   49/53   train_loss = 0.428\n",
      "Epoch 118 Batch   46/53   train_loss = 0.416\n",
      "Epoch 119 Batch   43/53   train_loss = 0.391\n",
      "Epoch 120 Batch   40/53   train_loss = 0.449\n",
      "Epoch 121 Batch   37/53   train_loss = 0.385\n",
      "Epoch 122 Batch   34/53   train_loss = 0.400\n",
      "Epoch 123 Batch   31/53   train_loss = 0.403\n",
      "Epoch 124 Batch   28/53   train_loss = 0.417\n",
      "Epoch 125 Batch   25/53   train_loss = 0.396\n",
      "Epoch 126 Batch   22/53   train_loss = 0.417\n",
      "Epoch 127 Batch   19/53   train_loss = 0.414\n",
      "Epoch 128 Batch   16/53   train_loss = 0.406\n",
      "Epoch 129 Batch   13/53   train_loss = 0.387\n",
      "Epoch 130 Batch   10/53   train_loss = 0.404\n",
      "Epoch 131 Batch    7/53   train_loss = 0.477\n",
      "Epoch 132 Batch    4/53   train_loss = 1.341\n",
      "Epoch 133 Batch    1/53   train_loss = 2.519\n",
      "Epoch 133 Batch   51/53   train_loss = 2.576\n",
      "Epoch 134 Batch   48/53   train_loss = 1.985\n",
      "Epoch 135 Batch   45/53   train_loss = 1.608\n",
      "Epoch 136 Batch   42/53   train_loss = 1.324\n",
      "Epoch 137 Batch   39/53   train_loss = 1.161\n",
      "Epoch 138 Batch   36/53   train_loss = 1.137\n",
      "Epoch 139 Batch   33/53   train_loss = 0.951\n",
      "Epoch 140 Batch   30/53   train_loss = 0.895\n",
      "Epoch 141 Batch   27/53   train_loss = 0.709\n",
      "Epoch 142 Batch   24/53   train_loss = 0.700\n",
      "Epoch 143 Batch   21/53   train_loss = 0.675\n",
      "Epoch 144 Batch   18/53   train_loss = 0.654\n",
      "Epoch 145 Batch   15/53   train_loss = 0.574\n",
      "Epoch 146 Batch   12/53   train_loss = 0.552\n",
      "Epoch 147 Batch    9/53   train_loss = 0.528\n",
      "Epoch 148 Batch    6/53   train_loss = 0.514\n",
      "Epoch 149 Batch    3/53   train_loss = 0.511\n",
      "Epoch 150 Batch    0/53   train_loss = 0.509\n",
      "Epoch 150 Batch   50/53   train_loss = 0.433\n",
      "Epoch 151 Batch   47/53   train_loss = 0.445\n",
      "Epoch 152 Batch   44/53   train_loss = 0.424\n",
      "Epoch 153 Batch   41/53   train_loss = 0.436\n",
      "Epoch 154 Batch   38/53   train_loss = 0.393\n",
      "Epoch 155 Batch   35/53   train_loss = 0.429\n",
      "Epoch 156 Batch   32/53   train_loss = 0.463\n",
      "Epoch 157 Batch   29/53   train_loss = 0.426\n",
      "Epoch 158 Batch   26/53   train_loss = 0.396\n",
      "Epoch 159 Batch   23/53   train_loss = 0.421\n",
      "Epoch 160 Batch   20/53   train_loss = 0.424\n",
      "Epoch 161 Batch   17/53   train_loss = 0.403\n",
      "Epoch 162 Batch   14/53   train_loss = 0.429\n",
      "Epoch 163 Batch   11/53   train_loss = 0.381\n",
      "Epoch 164 Batch    8/53   train_loss = 0.394\n",
      "Epoch 165 Batch    5/53   train_loss = 0.415\n",
      "Epoch 166 Batch    2/53   train_loss = 0.401\n",
      "Epoch 166 Batch   52/53   train_loss = 0.484\n",
      "Epoch 167 Batch   49/53   train_loss = 0.450\n",
      "Epoch 168 Batch   46/53   train_loss = 0.439\n",
      "Epoch 169 Batch   43/53   train_loss = 0.463\n",
      "Epoch 170 Batch   40/53   train_loss = 0.600\n",
      "Epoch 171 Batch   37/53   train_loss = 1.027\n",
      "Epoch 172 Batch   34/53   train_loss = 1.708\n",
      "Epoch 173 Batch   31/53   train_loss = 1.737\n",
      "Epoch 174 Batch   28/53   train_loss = 1.741\n",
      "Epoch 175 Batch   25/53   train_loss = 1.516\n",
      "Epoch 176 Batch   22/53   train_loss = 1.274\n",
      "Epoch 177 Batch   19/53   train_loss = 1.246\n",
      "Epoch 178 Batch   16/53   train_loss = 0.992\n",
      "Epoch 179 Batch   13/53   train_loss = 0.895\n",
      "Epoch 180 Batch   10/53   train_loss = 0.846\n",
      "Epoch 181 Batch    7/53   train_loss = 0.788\n",
      "Epoch 182 Batch    4/53   train_loss = 0.734\n",
      "Epoch 183 Batch    1/53   train_loss = 0.678\n",
      "Epoch 183 Batch   51/53   train_loss = 0.582\n",
      "Epoch 184 Batch   48/53   train_loss = 0.568\n",
      "Epoch 185 Batch   45/53   train_loss = 0.480\n",
      "Epoch 186 Batch   42/53   train_loss = 0.459\n",
      "Epoch 187 Batch   39/53   train_loss = 0.449\n",
      "Epoch 188 Batch   36/53   train_loss = 0.483\n",
      "Epoch 189 Batch   33/53   train_loss = 0.471\n",
      "Epoch 190 Batch   30/53   train_loss = 0.449\n",
      "Epoch 191 Batch   27/53   train_loss = 0.416\n",
      "Epoch 192 Batch   24/53   train_loss = 0.448\n",
      "Epoch 193 Batch   21/53   train_loss = 0.459\n",
      "Epoch 194 Batch   18/53   train_loss = 0.447\n",
      "Epoch 195 Batch   15/53   train_loss = 0.424\n",
      "Epoch 196 Batch   12/53   train_loss = 0.438\n",
      "Epoch 197 Batch    9/53   train_loss = 0.426\n",
      "Epoch 198 Batch    6/53   train_loss = 0.415\n",
      "Epoch 199 Batch    3/53   train_loss = 0.444\n",
      "Epoch 200 Batch    0/53   train_loss = 0.437\n",
      "Epoch 200 Batch   50/53   train_loss = 0.399\n",
      "Epoch 201 Batch   47/53   train_loss = 0.397\n",
      "Epoch 202 Batch   44/53   train_loss = 0.397\n",
      "Epoch 203 Batch   41/53   train_loss = 0.403\n",
      "Epoch 204 Batch   38/53   train_loss = 0.358\n",
      "Epoch 205 Batch   35/53   train_loss = 0.397\n",
      "Epoch 206 Batch   32/53   train_loss = 0.434\n",
      "Epoch 207 Batch   29/53   train_loss = 0.406\n",
      "Epoch 208 Batch   26/53   train_loss = 0.375\n",
      "Epoch 209 Batch   23/53   train_loss = 0.400\n",
      "Epoch 210 Batch   20/53   train_loss = 0.405\n",
      "Epoch 211 Batch   17/53   train_loss = 0.387\n",
      "Epoch 212 Batch   14/53   train_loss = 0.412\n",
      "Epoch 213 Batch   11/53   train_loss = 0.380\n",
      "Epoch 214 Batch    8/53   train_loss = 0.379\n",
      "Epoch 215 Batch    5/53   train_loss = 0.405\n",
      "Epoch 216 Batch    2/53   train_loss = 0.416\n",
      "Epoch 216 Batch   52/53   train_loss = 0.542\n",
      "Epoch 217 Batch   49/53   train_loss = 0.985\n",
      "Epoch 218 Batch   46/53   train_loss = 1.906\n",
      "Epoch 219 Batch   43/53   train_loss = 2.130\n",
      "Epoch 220 Batch   40/53   train_loss = 2.049\n",
      "Epoch 221 Batch   37/53   train_loss = 1.799\n",
      "Epoch 222 Batch   34/53   train_loss = 1.573\n",
      "Epoch 223 Batch   31/53   train_loss = 1.354\n",
      "Epoch 224 Batch   28/53   train_loss = 1.214\n",
      "Epoch 225 Batch   25/53   train_loss = 1.050\n",
      "Epoch 226 Batch   22/53   train_loss = 0.943\n",
      "Epoch 227 Batch   19/53   train_loss = 0.861\n",
      "Epoch 228 Batch   16/53   train_loss = 0.718\n",
      "Epoch 229 Batch   13/53   train_loss = 0.649\n",
      "Epoch 230 Batch   10/53   train_loss = 0.653\n",
      "Epoch 231 Batch    7/53   train_loss = 0.643\n",
      "Epoch 232 Batch    4/53   train_loss = 0.579\n",
      "Epoch 233 Batch    1/53   train_loss = 0.559\n",
      "Epoch 233 Batch   51/53   train_loss = 0.510\n",
      "Epoch 234 Batch   48/53   train_loss = 0.503\n",
      "Epoch 235 Batch   45/53   train_loss = 0.448\n",
      "Epoch 236 Batch   42/53   train_loss = 0.422\n",
      "Epoch 237 Batch   39/53   train_loss = 0.443\n",
      "Epoch 238 Batch   36/53   train_loss = 0.453\n",
      "Epoch 239 Batch   33/53   train_loss = 0.466\n",
      "Epoch 240 Batch   30/53   train_loss = 0.435\n",
      "Epoch 241 Batch   27/53   train_loss = 0.410\n",
      "Epoch 242 Batch   24/53   train_loss = 0.447\n",
      "Epoch 243 Batch   21/53   train_loss = 0.455\n",
      "Epoch 244 Batch   18/53   train_loss = 0.441\n",
      "Epoch 245 Batch   15/53   train_loss = 0.428\n",
      "Epoch 246 Batch   12/53   train_loss = 0.442\n",
      "Epoch 247 Batch    9/53   train_loss = 0.435\n",
      "Epoch 248 Batch    6/53   train_loss = 0.423\n",
      "Epoch 249 Batch    3/53   train_loss = 0.448\n",
      "Epoch 250 Batch    0/53   train_loss = 0.432\n",
      "Epoch 250 Batch   50/53   train_loss = 0.397\n",
      "Epoch 251 Batch   47/53   train_loss = 0.396\n",
      "Epoch 252 Batch   44/53   train_loss = 0.397\n",
      "Epoch 253 Batch   41/53   train_loss = 0.415\n",
      "Epoch 254 Batch   38/53   train_loss = 0.360\n",
      "Epoch 255 Batch   35/53   train_loss = 0.401\n",
      "Epoch 256 Batch   32/53   train_loss = 0.438\n",
      "Epoch 257 Batch   29/53   train_loss = 0.418\n",
      "Epoch 258 Batch   26/53   train_loss = 0.388\n",
      "Epoch 259 Batch   23/53   train_loss = 0.448\n",
      "Epoch 260 Batch   20/53   train_loss = 0.511\n",
      "Epoch 261 Batch   17/53   train_loss = 0.896\n",
      "Epoch 262 Batch   14/53   train_loss = 1.529\n",
      "Epoch 263 Batch   11/53   train_loss = 1.869\n",
      "Epoch 264 Batch    8/53   train_loss = 1.853\n",
      "Epoch 265 Batch    5/53   train_loss = 1.502\n",
      "Epoch 266 Batch    2/53   train_loss = 1.440\n",
      "Epoch 266 Batch   52/53   train_loss = 1.344\n",
      "Epoch 267 Batch   49/53   train_loss = 1.156\n",
      "Epoch 268 Batch   46/53   train_loss = 1.098\n",
      "Epoch 269 Batch   43/53   train_loss = 0.939\n",
      "Epoch 270 Batch   40/53   train_loss = 0.839\n",
      "Epoch 271 Batch   37/53   train_loss = 0.802\n",
      "Epoch 272 Batch   34/53   train_loss = 0.705\n",
      "Epoch 273 Batch   31/53   train_loss = 0.691\n",
      "Epoch 274 Batch   28/53   train_loss = 0.636\n",
      "Epoch 275 Batch   25/53   train_loss = 0.574\n",
      "Epoch 276 Batch   22/53   train_loss = 0.568\n",
      "Epoch 277 Batch   19/53   train_loss = 0.567\n",
      "Epoch 278 Batch   16/53   train_loss = 0.487\n",
      "Epoch 279 Batch   13/53   train_loss = 0.471\n",
      "Epoch 280 Batch   10/53   train_loss = 0.473\n",
      "Epoch 281 Batch    7/53   train_loss = 0.472\n",
      "Epoch 282 Batch    4/53   train_loss = 0.463\n",
      "Epoch 283 Batch    1/53   train_loss = 0.448\n",
      "Epoch 283 Batch   51/53   train_loss = 0.450\n",
      "Epoch 284 Batch   48/53   train_loss = 0.463\n",
      "Epoch 285 Batch   45/53   train_loss = 0.422\n",
      "Epoch 286 Batch   42/53   train_loss = 0.406\n",
      "Epoch 287 Batch   39/53   train_loss = 0.404\n",
      "Epoch 288 Batch   36/53   train_loss = 0.429\n",
      "Epoch 289 Batch   33/53   train_loss = 0.441\n",
      "Epoch 290 Batch   30/53   train_loss = 0.414\n",
      "Epoch 291 Batch   27/53   train_loss = 0.399\n",
      "Epoch 292 Batch   24/53   train_loss = 0.421\n",
      "Epoch 293 Batch   21/53   train_loss = 0.445\n",
      "Epoch 294 Batch   18/53   train_loss = 0.439\n",
      "Epoch 295 Batch   15/53   train_loss = 0.416\n",
      "Epoch 296 Batch   12/53   train_loss = 0.437\n",
      "Epoch 297 Batch    9/53   train_loss = 0.419\n",
      "Epoch 298 Batch    6/53   train_loss = 0.417\n",
      "Epoch 299 Batch    3/53   train_loss = 0.437\n",
      "Epoch 300 Batch    0/53   train_loss = 0.426\n",
      "Epoch 300 Batch   50/53   train_loss = 0.398\n",
      "Epoch 301 Batch   47/53   train_loss = 0.402\n",
      "Epoch 302 Batch   44/53   train_loss = 0.423\n",
      "Epoch 303 Batch   41/53   train_loss = 0.481\n",
      "Epoch 304 Batch   38/53   train_loss = 0.549\n",
      "Epoch 305 Batch   35/53   train_loss = 1.089\n",
      "Epoch 306 Batch   32/53   train_loss = 1.595\n",
      "Epoch 307 Batch   29/53   train_loss = 1.798\n",
      "Epoch 308 Batch   26/53   train_loss = 1.759\n",
      "Epoch 309 Batch   23/53   train_loss = 1.666\n",
      "Epoch 310 Batch   20/53   train_loss = 1.403\n",
      "Epoch 311 Batch   17/53   train_loss = 1.287\n",
      "Epoch 312 Batch   14/53   train_loss = 1.137\n",
      "Epoch 313 Batch   11/53   train_loss = 0.927\n",
      "Epoch 314 Batch    8/53   train_loss = 0.979\n",
      "Epoch 315 Batch    5/53   train_loss = 0.849\n",
      "Epoch 316 Batch    2/53   train_loss = 0.752\n",
      "Epoch 316 Batch   52/53   train_loss = 0.747\n",
      "Epoch 317 Batch   49/53   train_loss = 0.654\n",
      "Epoch 318 Batch   46/53   train_loss = 0.605\n",
      "Epoch 319 Batch   43/53   train_loss = 0.554\n",
      "Epoch 320 Batch   40/53   train_loss = 0.580\n",
      "Epoch 321 Batch   37/53   train_loss = 0.506\n",
      "Epoch 322 Batch   34/53   train_loss = 0.510\n",
      "Epoch 323 Batch   31/53   train_loss = 0.491\n",
      "Epoch 324 Batch   28/53   train_loss = 0.499\n",
      "Epoch 325 Batch   25/53   train_loss = 0.464\n",
      "Epoch 326 Batch   22/53   train_loss = 0.482\n",
      "Epoch 327 Batch   19/53   train_loss = 0.458\n",
      "Epoch 328 Batch   16/53   train_loss = 0.438\n",
      "Epoch 329 Batch   13/53   train_loss = 0.430\n",
      "Epoch 330 Batch   10/53   train_loss = 0.442\n",
      "Epoch 331 Batch    7/53   train_loss = 0.448\n",
      "Epoch 332 Batch    4/53   train_loss = 0.442\n",
      "Epoch 333 Batch    1/53   train_loss = 0.435\n",
      "Epoch 333 Batch   51/53   train_loss = 0.432\n",
      "Epoch 334 Batch   48/53   train_loss = 0.447\n",
      "Epoch 335 Batch   45/53   train_loss = 0.416\n",
      "Epoch 336 Batch   42/53   train_loss = 0.405\n",
      "Epoch 337 Batch   39/53   train_loss = 0.399\n",
      "Epoch 338 Batch   36/53   train_loss = 0.423\n",
      "Epoch 339 Batch   33/53   train_loss = 0.434\n",
      "Epoch 340 Batch   30/53   train_loss = 0.411\n",
      "Epoch 341 Batch   27/53   train_loss = 0.392\n",
      "Epoch 342 Batch   24/53   train_loss = 0.417\n",
      "Epoch 343 Batch   21/53   train_loss = 0.439\n",
      "Epoch 344 Batch   18/53   train_loss = 0.429\n",
      "Epoch 345 Batch   15/53   train_loss = 0.411\n",
      "Epoch 346 Batch   12/53   train_loss = 0.423\n",
      "Epoch 347 Batch    9/53   train_loss = 0.425\n",
      "Epoch 348 Batch    6/53   train_loss = 0.422\n",
      "Epoch 349 Batch    3/53   train_loss = 0.472\n",
      "Epoch 350 Batch    0/53   train_loss = 0.638\n",
      "Epoch 350 Batch   50/53   train_loss = 0.952\n",
      "Epoch 351 Batch   47/53   train_loss = 1.688\n",
      "Epoch 352 Batch   44/53   train_loss = 1.711\n",
      "Epoch 353 Batch   41/53   train_loss = 1.829\n",
      "Epoch 354 Batch   38/53   train_loss = 1.549\n",
      "Epoch 355 Batch   35/53   train_loss = 1.473\n",
      "Epoch 356 Batch   32/53   train_loss = 1.337\n",
      "Epoch 357 Batch   29/53   train_loss = 1.140\n",
      "Epoch 358 Batch   26/53   train_loss = 0.998\n",
      "Epoch 359 Batch   23/53   train_loss = 0.989\n",
      "Epoch 360 Batch   20/53   train_loss = 0.830\n",
      "Epoch 361 Batch   17/53   train_loss = 0.792\n",
      "Epoch 362 Batch   14/53   train_loss = 0.771\n",
      "Epoch 363 Batch   11/53   train_loss = 0.643\n",
      "Epoch 364 Batch    8/53   train_loss = 0.613\n",
      "Epoch 365 Batch    5/53   train_loss = 0.589\n",
      "Epoch 366 Batch    2/53   train_loss = 0.563\n",
      "Epoch 366 Batch   52/53   train_loss = 0.612\n",
      "Epoch 367 Batch   49/53   train_loss = 0.536\n",
      "Epoch 368 Batch   46/53   train_loss = 0.495\n",
      "Epoch 369 Batch   43/53   train_loss = 0.473\n",
      "Epoch 370 Batch   40/53   train_loss = 0.515\n",
      "Epoch 371 Batch   37/53   train_loss = 0.458\n",
      "Epoch 372 Batch   34/53   train_loss = 0.459\n",
      "Epoch 373 Batch   31/53   train_loss = 0.458\n",
      "Epoch 374 Batch   28/53   train_loss = 0.473\n",
      "Epoch 375 Batch   25/53   train_loss = 0.437\n",
      "Epoch 376 Batch   22/53   train_loss = 0.453\n",
      "Epoch 377 Batch   19/53   train_loss = 0.443\n",
      "Epoch 378 Batch   16/53   train_loss = 0.431\n",
      "Epoch 379 Batch   13/53   train_loss = 0.419\n",
      "Epoch 380 Batch   10/53   train_loss = 0.424\n",
      "Epoch 381 Batch    7/53   train_loss = 0.442\n",
      "Epoch 382 Batch    4/53   train_loss = 0.432\n",
      "Epoch 383 Batch    1/53   train_loss = 0.435\n",
      "Epoch 383 Batch   51/53   train_loss = 0.430\n",
      "Epoch 384 Batch   48/53   train_loss = 0.462\n",
      "Epoch 385 Batch   45/53   train_loss = 0.418\n",
      "Epoch 386 Batch   42/53   train_loss = 0.406\n",
      "Epoch 387 Batch   39/53   train_loss = 0.408\n",
      "Epoch 388 Batch   36/53   train_loss = 0.437\n",
      "Epoch 389 Batch   33/53   train_loss = 0.457\n",
      "Epoch 390 Batch   30/53   train_loss = 0.473\n",
      "Epoch 391 Batch   27/53   train_loss = 0.466\n",
      "Epoch 392 Batch   24/53   train_loss = 0.598\n",
      "Epoch 393 Batch   21/53   train_loss = 0.831\n",
      "Epoch 394 Batch   18/53   train_loss = 1.201\n",
      "Epoch 395 Batch   15/53   train_loss = 1.505\n",
      "Epoch 396 Batch   12/53   train_loss = 1.580\n",
      "Epoch 397 Batch    9/53   train_loss = 1.460\n",
      "Epoch 398 Batch    6/53   train_loss = 1.452\n",
      "Epoch 399 Batch    3/53   train_loss = 1.202\n",
      "Epoch 400 Batch    0/53   train_loss = 1.186\n",
      "Epoch 400 Batch   50/53   train_loss = 1.059\n",
      "Epoch 401 Batch   47/53   train_loss = 0.987\n",
      "Epoch 402 Batch   44/53   train_loss = 0.932\n",
      "Epoch 403 Batch   41/53   train_loss = 0.895\n",
      "Epoch 404 Batch   38/53   train_loss = 0.699\n",
      "Epoch 405 Batch   35/53   train_loss = 0.695\n",
      "Epoch 406 Batch   32/53   train_loss = 0.680\n",
      "Epoch 407 Batch   29/53   train_loss = 0.644\n",
      "Epoch 408 Batch   26/53   train_loss = 0.535\n",
      "Epoch 409 Batch   23/53   train_loss = 0.569\n",
      "Epoch 410 Batch   20/53   train_loss = 0.545\n",
      "Epoch 411 Batch   17/53   train_loss = 0.503\n",
      "Epoch 412 Batch   14/53   train_loss = 0.522\n",
      "Epoch 413 Batch   11/53   train_loss = 0.451\n",
      "Epoch 414 Batch    8/53   train_loss = 0.437\n",
      "Epoch 415 Batch    5/53   train_loss = 0.447\n",
      "Epoch 416 Batch    2/53   train_loss = 0.432\n",
      "Epoch 416 Batch   52/53   train_loss = 0.502\n",
      "Epoch 417 Batch   49/53   train_loss = 0.460\n",
      "Epoch 418 Batch   46/53   train_loss = 0.446\n",
      "Epoch 419 Batch   43/53   train_loss = 0.422\n",
      "Epoch 420 Batch   40/53   train_loss = 0.468\n",
      "Epoch 421 Batch   37/53   train_loss = 0.403\n",
      "Epoch 422 Batch   34/53   train_loss = 0.419\n",
      "Epoch 423 Batch   31/53   train_loss = 0.416\n",
      "Epoch 424 Batch   28/53   train_loss = 0.437\n",
      "Epoch 425 Batch   25/53   train_loss = 0.412\n",
      "Epoch 426 Batch   22/53   train_loss = 0.428\n",
      "Epoch 427 Batch   19/53   train_loss = 0.433\n",
      "Epoch 428 Batch   16/53   train_loss = 0.417\n",
      "Epoch 429 Batch   13/53   train_loss = 0.397\n",
      "Epoch 430 Batch   10/53   train_loss = 0.415\n",
      "Epoch 431 Batch    7/53   train_loss = 0.417\n",
      "Epoch 432 Batch    4/53   train_loss = 0.418\n",
      "Epoch 433 Batch    1/53   train_loss = 0.418\n",
      "Epoch 433 Batch   51/53   train_loss = 0.408\n",
      "Epoch 434 Batch   48/53   train_loss = 0.439\n",
      "Epoch 435 Batch   45/53   train_loss = 0.400\n",
      "Epoch 436 Batch   42/53   train_loss = 0.382\n",
      "Epoch 437 Batch   39/53   train_loss = 0.388\n",
      "Epoch 438 Batch   36/53   train_loss = 0.404\n",
      "Epoch 439 Batch   33/53   train_loss = 0.424\n",
      "Epoch 440 Batch   30/53   train_loss = 0.402\n",
      "Epoch 441 Batch   27/53   train_loss = 0.377\n",
      "Epoch 442 Batch   24/53   train_loss = 0.415\n",
      "Epoch 443 Batch   21/53   train_loss = 0.446\n",
      "Epoch 444 Batch   18/53   train_loss = 0.571\n",
      "Epoch 445 Batch   15/53   train_loss = 1.130\n",
      "Epoch 446 Batch   12/53   train_loss = 1.965\n",
      "Epoch 447 Batch    9/53   train_loss = 2.228\n",
      "Epoch 448 Batch    6/53   train_loss = 2.045\n",
      "Epoch 449 Batch    3/53   train_loss = 1.698\n",
      "Epoch 450 Batch    0/53   train_loss = 1.670\n",
      "Epoch 450 Batch   50/53   train_loss = 1.374\n",
      "Epoch 451 Batch   47/53   train_loss = 1.347\n",
      "Epoch 452 Batch   44/53   train_loss = 1.114\n",
      "Epoch 453 Batch   41/53   train_loss = 1.067\n",
      "Epoch 454 Batch   38/53   train_loss = 0.923\n",
      "Epoch 455 Batch   35/53   train_loss = 0.837\n",
      "Epoch 456 Batch   32/53   train_loss = 0.861\n",
      "Epoch 457 Batch   29/53   train_loss = 0.765\n",
      "Epoch 458 Batch   26/53   train_loss = 0.678\n",
      "Epoch 459 Batch   23/53   train_loss = 0.692\n",
      "Epoch 460 Batch   20/53   train_loss = 0.659\n",
      "Epoch 461 Batch   17/53   train_loss = 0.593\n",
      "Epoch 462 Batch   14/53   train_loss = 0.601\n",
      "Epoch 463 Batch   11/53   train_loss = 0.495\n",
      "Epoch 464 Batch    8/53   train_loss = 0.504\n",
      "Epoch 465 Batch    5/53   train_loss = 0.515\n",
      "Epoch 466 Batch    2/53   train_loss = 0.503\n",
      "Epoch 466 Batch   52/53   train_loss = 0.579\n",
      "Epoch 467 Batch   49/53   train_loss = 0.504\n",
      "Epoch 468 Batch   46/53   train_loss = 0.487\n",
      "Epoch 469 Batch   43/53   train_loss = 0.459\n",
      "Epoch 470 Batch   40/53   train_loss = 0.511\n",
      "Epoch 471 Batch   37/53   train_loss = 0.460\n",
      "Epoch 472 Batch   34/53   train_loss = 0.473\n",
      "Epoch 473 Batch   31/53   train_loss = 0.473\n",
      "Epoch 474 Batch   28/53   train_loss = 0.467\n",
      "Epoch 475 Batch   25/53   train_loss = 0.444\n",
      "Epoch 476 Batch   22/53   train_loss = 0.471\n",
      "Epoch 477 Batch   19/53   train_loss = 0.472\n",
      "Epoch 478 Batch   16/53   train_loss = 0.443\n",
      "Epoch 479 Batch   13/53   train_loss = 0.437\n",
      "Epoch 480 Batch   10/53   train_loss = 0.441\n",
      "Epoch 481 Batch    7/53   train_loss = 0.456\n",
      "Epoch 482 Batch    4/53   train_loss = 0.448\n",
      "Epoch 483 Batch    1/53   train_loss = 0.453\n",
      "Epoch 483 Batch   51/53   train_loss = 0.468\n",
      "Epoch 484 Batch   48/53   train_loss = 0.476\n",
      "Epoch 485 Batch   45/53   train_loss = 0.465\n",
      "Epoch 486 Batch   42/53   train_loss = 0.515\n",
      "Epoch 487 Batch   39/53   train_loss = 0.625\n",
      "Epoch 488 Batch   36/53   train_loss = 1.009\n",
      "Epoch 489 Batch   33/53   train_loss = 1.234\n",
      "Epoch 490 Batch   30/53   train_loss = 1.522\n",
      "Epoch 491 Batch   27/53   train_loss = 1.542\n",
      "Epoch 492 Batch   24/53   train_loss = 1.436\n",
      "Epoch 493 Batch   21/53   train_loss = 1.388\n",
      "Epoch 494 Batch   18/53   train_loss = 1.319\n",
      "Epoch 495 Batch   15/53   train_loss = 1.207\n",
      "Epoch 496 Batch   12/53   train_loss = 1.121\n",
      "Epoch 497 Batch    9/53   train_loss = 1.077\n",
      "Epoch 498 Batch    6/53   train_loss = 0.963\n",
      "Epoch 499 Batch    3/53   train_loss = 0.804\n",
      "Model Trained and Saved\n"
     ]
    }
   ],
   "source": [
    "\"\"\"\n",
    "DON'T MODIFY ANYTHING IN THIS CELL\n",
    "\"\"\"\n",
    "batches = get_batches(int_text, batch_size, seq_length)\n",
    "\n",
    "with tf.Session(graph=train_graph) as sess:\n",
    "    sess.run(tf.global_variables_initializer())\n",
    "\n",
    "    for epoch_i in range(num_epochs):\n",
    "        state = sess.run(initial_state, {input_text: batches[0][0]})\n",
    "\n",
    "        for batch_i, (x, y) in enumerate(batches):\n",
    "            feed = {\n",
    "                input_text: x,\n",
    "                targets: y,\n",
    "                initial_state: state,\n",
    "                lr: learning_rate}\n",
    "            train_loss, state, _ = sess.run([cost, final_state, train_op], feed)\n",
    "\n",
    "            # Show every <show_every_n_batches> batches\n",
    "            if (epoch_i * len(batches) + batch_i) % show_every_n_batches == 0:\n",
    "                print('Epoch {:>3} Batch {:>4}/{}   train_loss = {:.3f}'.format(\n",
    "                    epoch_i,\n",
    "                    batch_i,\n",
    "                    len(batches),\n",
    "                    train_loss))\n",
    "\n",
    "    # Save Model\n",
    "    saver = tf.train.Saver()\n",
    "    saver.save(sess, save_dir)\n",
    "    print('Model Trained and Saved')"
   ]
  },
  {
   "cell_type": "markdown",
   "metadata": {
    "deletable": true,
    "editable": true
   },
   "source": [
    "## Save Parameters\n",
    "Save `seq_length` and `save_dir` for generating a new TV script."
   ]
  },
  {
   "cell_type": "code",
   "execution_count": 98,
   "metadata": {
    "collapsed": true,
    "deletable": true,
    "editable": true
   },
   "outputs": [],
   "source": [
    "\"\"\"\n",
    "DON'T MODIFY ANYTHING IN THIS CELL\n",
    "\"\"\"\n",
    "# Save parameters for checkpoint\n",
    "helper.save_params((seq_length, save_dir))"
   ]
  },
  {
   "cell_type": "markdown",
   "metadata": {
    "deletable": true,
    "editable": true
   },
   "source": [
    "# Checkpoint"
   ]
  },
  {
   "cell_type": "code",
   "execution_count": 99,
   "metadata": {
    "collapsed": true,
    "deletable": true,
    "editable": true
   },
   "outputs": [],
   "source": [
    "\"\"\"\n",
    "DON'T MODIFY ANYTHING IN THIS CELL\n",
    "\"\"\"\n",
    "import tensorflow as tf\n",
    "import numpy as np\n",
    "import helper\n",
    "import problem_unittests as tests\n",
    "\n",
    "_, vocab_to_int, int_to_vocab, token_dict = helper.load_preprocess()\n",
    "seq_length, load_dir = helper.load_params()"
   ]
  },
  {
   "cell_type": "markdown",
   "metadata": {
    "deletable": true,
    "editable": true
   },
   "source": [
    "## Implement Generate Functions\n",
    "### Get Tensors\n",
    "Get tensors from `loaded_graph` using the function [`get_tensor_by_name()`](https://www.tensorflow.org/api_docs/python/tf/Graph#get_tensor_by_name).  Get the tensors using the following names:\n",
    "- \"input:0\"\n",
    "- \"initial_state:0\"\n",
    "- \"final_state:0\"\n",
    "- \"probs:0\"\n",
    "\n",
    "Return the tensors in the following tuple `(InputTensor, InitialStateTensor, FinalStateTensor, ProbsTensor)` "
   ]
  },
  {
   "cell_type": "code",
   "execution_count": 100,
   "metadata": {
    "collapsed": false,
    "deletable": true,
    "editable": true
   },
   "outputs": [
    {
     "name": "stdout",
     "output_type": "stream",
     "text": [
      "Tests Passed\n"
     ]
    }
   ],
   "source": [
    "def get_tensors(loaded_graph):\n",
    "    \"\"\"\n",
    "    Get input, initial state, final state, and probabilities tensor from <loaded_graph>\n",
    "    :param loaded_graph: TensorFlow graph loaded from file\n",
    "    :return: Tuple (InputTensor, InitialStateTensor, FinalStateTensor, ProbsTensor)\n",
    "    \"\"\"\n",
    "    # TODO: Implement Function\n",
    "    InputTensor=loaded_graph.get_tensor_by_name('input:0')\n",
    "    InitialStateTensor=loaded_graph.get_tensor_by_name('initial_state:0')\n",
    "    FinalStateTensor=loaded_graph.get_tensor_by_name('final_state:0')\n",
    "    ProbsTensor=loaded_graph.get_tensor_by_name('probs:0')\n",
    "    \n",
    "    \n",
    "    return InputTensor, InitialStateTensor, FinalStateTensor, ProbsTensor\n",
    "\n",
    "\n",
    "\"\"\"\n",
    "DON'T MODIFY ANYTHING IN THIS CELL THAT IS BELOW THIS LINE\n",
    "\"\"\"\n",
    "tests.test_get_tensors(get_tensors)"
   ]
  },
  {
   "cell_type": "markdown",
   "metadata": {
    "deletable": true,
    "editable": true
   },
   "source": [
    "### Choose Word\n",
    "Implement the `pick_word()` function to select the next word using `probabilities`."
   ]
  },
  {
   "cell_type": "code",
   "execution_count": 101,
   "metadata": {
    "collapsed": false,
    "deletable": true,
    "editable": true
   },
   "outputs": [
    {
     "name": "stdout",
     "output_type": "stream",
     "text": [
      "Tests Passed\n"
     ]
    }
   ],
   "source": [
    "def pick_word(probabilities, int_to_vocab):\n",
    "    \"\"\"\n",
    "    Pick the next word in the generated text\n",
    "    :param probabilities: Probabilites of the next word\n",
    "    :param int_to_vocab: Dictionary of word ids as the keys and words as the values\n",
    "    :return: String of the predicted word\n",
    "    \"\"\"\n",
    "    # TODO: Implement Function\n",
    "    words = int_to_vocab[np.argmax(probabilities)]\n",
    "    return words\n",
    "\n",
    "\n",
    "\"\"\"\n",
    "DON'T MODIFY ANYTHING IN THIS CELL THAT IS BELOW THIS LINE\n",
    "\"\"\"\n",
    "tests.test_pick_word(pick_word)"
   ]
  },
  {
   "cell_type": "markdown",
   "metadata": {
    "deletable": true,
    "editable": true
   },
   "source": [
    "## Generate TV Script\n",
    "This will generate the TV script for you.  Set `gen_length` to the length of TV script you want to generate."
   ]
  },
  {
   "cell_type": "code",
   "execution_count": 105,
   "metadata": {
    "collapsed": false,
    "deletable": true,
    "editable": true
   },
   "outputs": [
    {
     "name": "stdout",
     "output_type": "stream",
     "text": [
      "homer_simpson:(talk-sings) it tastes like clean and toss!\n",
      "moe_szyslak: well, well, ya remember that right!\n",
      "chief_wiggum: we never been happier. see, the only problem is gonna kick us your car.\n",
      "narrator: you have reached the buzz cola suicide hotline.\n",
      "moe_szyslak:(thoughtful) uh, look!\n",
      "homer_simpson: and if it's such a person?\n",
      "moe_szyslak: let's kick this out?\n",
      "moe_szyslak: i hate with my face when this was the neck?\n",
      "moe_szyslak: look at the bright side, moe!(worried) no, think about this place is i just wanted you!\n",
      "homer_simpson: ned?\n",
      "homer_simpson:(moans) moe, moe finally. i'm on a beer.\n",
      "moe_szyslak:(terrified) what do i don't have to train me!\n",
      "bart_simpson: all i've got a beer.\n",
      "moe_szyslak: uh, let me check into the use this guy? well here's the complaint and turning gay the beer!\n",
      "moe_szyslak: hey, homer, they say that these days, but i wish mr. burns you please put in a home when if they're on top of the night!\n",
      "carl_carlson: you wouldn't serve homer just 'cause i can.\n",
      "moe_szyslak: so, marge, edna put so fast.\n",
      "moe_szyslak: nobody comes into a bit...\"\n",
      "moe_szyslak: thanks, homer. you know what i blame this phone?\n",
      "moe_szyslak: um...(big exhale)\n",
      "moe_szyslak: wha... wait a minute. you gotta do it yourself, homer.\n",
      "homer_simpson: and you have internet access? people, have you seen you since this was a man with a positive...\n",
      "lisa_simpson: you did you think you was just as how if there's this through beer, and i'm gonna carve my name on his face was crushed, why did i play us.\n",
      "homer_simpson:(sobs)\n",
      "\n",
      "\n",
      "carl_carlson: all right, listen to this once?\n",
      "carl_carlson: pick it! burn our hats!\n",
      "moe_szyslak: ah, who have been shot in the door? i've sucked every church book ribbon there is hoping you done the next with you, he's not remember--\n",
      "carl_carlson: no, it's so fast... we belong to you to make that back.\n",
      "homer_simpson: oh, now i come world.\n",
      "marge_simpson:(sings) mock.\n",
      "waylon_smithers: uh, there's one thing i look like macaulay culkin.\n",
      "\n",
      "\n",
      "moe_szyslak: well, word is no more of the kind of polygon.\n",
      "\n",
      "\n",
      "moe_szyslak:(hanging around, moe.\n",
      "moe_szyslak: yeah, that got is no more till it turns\" positive\"...\n",
      "homer_simpson: i guess\n"
     ]
    }
   ],
   "source": [
    "gen_length = 500\n",
    "# homer_simpson, moe_szyslak, or Barney_Gumble\n",
    "prime_word = 'homer_simpson'\n",
    "\n",
    "\"\"\"\n",
    "DON'T MODIFY ANYTHING IN THIS CELL THAT IS BELOW THIS LINE\n",
    "\"\"\"\n",
    "loaded_graph = tf.Graph()\n",
    "with tf.Session(graph=loaded_graph) as sess:\n",
    "    # Load saved model\n",
    "    loader = tf.train.import_meta_graph(load_dir + '.meta')\n",
    "    loader.restore(sess, load_dir)\n",
    "\n",
    "    # Get Tensors from loaded model\n",
    "    input_text, initial_state, final_state, probs = get_tensors(loaded_graph)\n",
    "\n",
    "    # Sentences generation setup\n",
    "    gen_sentences = [prime_word + ':']\n",
    "    prev_state = sess.run(initial_state, {input_text: np.array([[1]])})\n",
    "\n",
    "    # Generate sentences\n",
    "    for n in range(gen_length):\n",
    "        # Dynamic Input\n",
    "        dyn_input = [[vocab_to_int[word] for word in gen_sentences[-seq_length:]]]\n",
    "        dyn_seq_length = len(dyn_input[0])\n",
    "\n",
    "        # Get Prediction\n",
    "        probabilities, prev_state = sess.run(\n",
    "            [probs, final_state],\n",
    "            {input_text: dyn_input, initial_state: prev_state})\n",
    "        \n",
    "        pred_word = pick_word(probabilities[dyn_seq_length-1], int_to_vocab)\n",
    "\n",
    "        gen_sentences.append(pred_word)\n",
    "    \n",
    "    # Remove tokens\n",
    "    tv_script = ' '.join(gen_sentences)\n",
    "    for key, token in token_dict.items():\n",
    "        ending = ' ' if key in ['\\n', '(', '\"'] else ''\n",
    "        tv_script = tv_script.replace(' ' + token.lower(), key)\n",
    "    tv_script = tv_script.replace('\\n ', '\\n')\n",
    "    tv_script = tv_script.replace('( ', '(')\n",
    "        \n",
    "    print(tv_script)"
   ]
  },
  {
   "cell_type": "markdown",
   "metadata": {
    "deletable": true,
    "editable": true
   },
   "source": [
    "# The TV Script is Nonsensical\n",
    "It's ok if the TV script doesn't make any sense.  We trained on less than a megabyte of text.  In order to get good results, you'll have to use a smaller vocabulary or get more data.  Luckly there's more data!  As we mentioned in the begging of this project, this is a subset of [another dataset](https://www.kaggle.com/wcukierski/the-simpsons-by-the-data).  We didn't have you train on all the data, because that would take too long.  However, you are free to train your neural network on all the data.  After you complete the project, of course.\n",
    "# Submitting This Project\n",
    "When submitting this project, make sure to run all the cells before saving the notebook. Save the notebook file as \"dlnd_tv_script_generation.ipynb\" and save it as a HTML file under \"File\" -> \"Download as\". Include the \"helper.py\" and \"problem_unittests.py\" files in your submission."
   ]
  }
 ],
 "metadata": {
  "kernelspec": {
   "display_name": "Python 3",
   "language": "python",
   "name": "python3"
  },
  "language_info": {
   "codemirror_mode": {
    "name": "ipython",
    "version": 3
   },
   "file_extension": ".py",
   "mimetype": "text/x-python",
   "name": "python",
   "nbconvert_exporter": "python",
   "pygments_lexer": "ipython3",
   "version": "3.5.3"
  },
  "widgets": {
   "state": {},
   "version": "1.1.2"
  }
 },
 "nbformat": 4,
 "nbformat_minor": 1
}
